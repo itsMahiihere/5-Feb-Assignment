{
 "cells": [
  {
   "cell_type": "code",
   "execution_count": 5,
   "id": "d265d4ce-1a56-4ca5-819d-8049aee8a83c",
   "metadata": {},
   "outputs": [],
   "source": [
    "# Q1. Ans:-"
   ]
  },
  {
   "cell_type": "code",
   "execution_count": null,
   "id": "c02908a2-cc19-49ac-b4c8-87a9011842e5",
   "metadata": {},
   "outputs": [],
   "source": [
    "''' Class is a blueprint or template for creating objects. It defines a set of attributes \n",
    "    (fields) and behaviors (methods) that objects of that class will have.\n",
    "\n",
    "    An object is an instance of a class. Objects have their own unique set of values  for the attributes defined in the class,\n",
    "    and can perform the behaviors defined in the class.\n",
    "\n",
    " Example: A class \"Car\" can have attributes such as make, model, year, and color,\n",
    "    and behaviors such as start, stop, and drive. \n",
    "    An object of the \"Car\" class might be a specific car, \n",
    "    such as a \"Toyota Camry\" with make=\"Toyota\", model=\"Camry\", year=2020, and color=\"Red\". '''"
   ]
  },
  {
   "cell_type": "code",
   "execution_count": 7,
   "id": "8575a2de-b5ad-45b1-9c31-2713956653a8",
   "metadata": {},
   "outputs": [],
   "source": [
    "# Q2. Ans:-\n"
   ]
  },
  {
   "cell_type": "code",
   "execution_count": null,
   "id": "c64ac47f-dc34-4e23-bb63-cf320107bb9c",
   "metadata": {},
   "outputs": [],
   "source": [
    "''' The four pillars of oops is:\n",
    "    1.Abstraction: \n",
    "    2.Encapsulation:\n",
    "    3.Inheritance: \n",
    "    4.Polymorphism: '''"
   ]
  },
  {
   "cell_type": "code",
   "execution_count": 9,
   "id": "844f2e3f-a470-4895-ae09-105b8ee37798",
   "metadata": {},
   "outputs": [],
   "source": [
    "# Q3. Ans:-"
   ]
  },
  {
   "cell_type": "code",
   "execution_count": null,
   "id": "3eb5b443-419a-4a1f-a536-a1f484fa57bb",
   "metadata": {},
   "outputs": [],
   "source": [
    "''' The __init__ method, also known as a constructor, is used to initialize \n",
    "    the attributes of an object when it is created. The __init__ method is \n",
    "    called automatically when a new object is created from a class, and \n",
    "    it is used to set the initial values for the object's attributes. '''\n"
   ]
  },
  {
   "cell_type": "code",
   "execution_count": 10,
   "id": "27ba399e-ccca-46ba-b67e-ba52e5f66367",
   "metadata": {},
   "outputs": [
    {
     "name": "stdout",
     "output_type": "stream",
     "text": [
      "Hello, my name is Nikhil\n"
     ]
    }
   ],
   "source": [
    "# Example:-\n",
    "\n",
    "class Person:\n",
    " \n",
    "    # init method or constructor\n",
    "    def __init__(self, name):\n",
    "        self.name = name\n",
    " \n",
    "    # Sample Method\n",
    "    def say_hi(self):\n",
    "        print('Hello, my name is', self.name)\n",
    " \n",
    " \n",
    "p = Person('Nikhil')\n",
    "p.say_hi()"
   ]
  },
  {
   "cell_type": "code",
   "execution_count": null,
   "id": "b9048045-4763-4340-be4f-ea649ae45428",
   "metadata": {},
   "outputs": [],
   "source": [
    "# Q4. Ans:-"
   ]
  },
  {
   "cell_type": "code",
   "execution_count": null,
   "id": "bd5101d2-88c2-4505-addf-b0eb4b10afe8",
   "metadata": {},
   "outputs": [],
   "source": [
    "''' Class methods must have an extra first parameter in the method definition.  \n",
    "    We do not give a value for this parameter when we call the method, Python provides it.\n",
    "    If we have a method that takes no arguments, we still have one argument.\n",
    "    This is similar to this pointer in C++ and this reference in Java.\n",
    "    When we call a method of this object as myobject.method(arg1, arg2),  \n",
    "    this is automatically converted by Python into MyClass.method(myobject, arg1, arg2) – this is all the special self is about. '''"
   ]
  },
  {
   "cell_type": "code",
   "execution_count": 11,
   "id": "66086951-55a2-4166-95ca-ec0105d99c30",
   "metadata": {},
   "outputs": [],
   "source": [
    "# Q5. Ans:-"
   ]
  },
  {
   "cell_type": "code",
   "execution_count": null,
   "id": "43deff97-9458-424e-820a-61d65909ec3f",
   "metadata": {},
   "outputs": [],
   "source": [
    "''' Inheritance is an important aspect of the object-oriented paradigm.\n",
    "    Inheritance provides code reusability to the program because we can use an existing class\n",
    "    to create a new class instead of creating it from scratch.\n",
    "\n",
    "    In inheritance, the child class acquires the properties\n",
    "    and can access all the data members and functions defined in the parent class.\n",
    "    A child class can also provide its specific implementation to the functions of the parent class. '''"
   ]
  },
  {
   "cell_type": "code",
   "execution_count": null,
   "id": "52cb7fca-ce1a-4e59-8e75-7912c4a48388",
   "metadata": {},
   "outputs": [],
   "source": [
    "''' Multi-Level inheritance:-\n",
    "Multi-Level inheritance is possible in python like other object-oriented languages.\n",
    "Multi-level inheritance is archived when a derived class inherits another derived class.\n",
    "There is no limit on the number of levels up to which, the multi-level inheritance is archived in python. '''\n",
    "\n"
   ]
  },
  {
   "cell_type": "code",
   "execution_count": 12,
   "id": "710cd99c-7872-4f8d-bb48-0cfe46ef4f74",
   "metadata": {},
   "outputs": [
    {
     "name": "stdout",
     "output_type": "stream",
     "text": [
      "dog barking\n",
      "Animal Speaking\n",
      "Eating bread...\n"
     ]
    }
   ],
   "source": [
    "# Example:-\n",
    "\n",
    "class Animal:  \n",
    "    def speak(self):  \n",
    "        print(\"Animal Speaking\")  \n",
    "#The child class Dog inherits the base class Animal  \n",
    "class Dog(Animal):  \n",
    "    def bark(self):  \n",
    "        print(\"dog barking\")  \n",
    "#The child class Dogchild inherits another child class Dog  \n",
    "class DogChild(Dog):  \n",
    "    def eat(self):  \n",
    "        print(\"Eating bread...\")  \n",
    "d = DogChild()  \n",
    "d.bark()  \n",
    "d.speak()  \n",
    "d.eat()  "
   ]
  },
  {
   "cell_type": "code",
   "execution_count": 13,
   "id": "15cb05b5-fd26-4d97-a43b-1afdc8bdf495",
   "metadata": {},
   "outputs": [
    {
     "name": "stdout",
     "output_type": "stream",
     "text": [
      "30\n",
      "200\n",
      "0.5\n"
     ]
    }
   ],
   "source": [
    "# Python Multiple inheritance\n",
    "# Python provides us the flexibility to inherit multiple base classes in the child class.\n",
    "\n",
    "# Example:-\n",
    "\n",
    "class Cal1:  \n",
    "    def Sum(self,a,b):  \n",
    "        return a+b;  \n",
    "class Cal2:  \n",
    "    def Mul(self,a,b):  \n",
    "        return a*b;  \n",
    "class Derived(Cal1,Cal2):  \n",
    "    def Div(self,a,b):  \n",
    "        return a/b;  \n",
    "d = Derived()  \n",
    "print(d.Sum(10,20))  \n",
    "print(d.Mul(10,20))  \n",
    "print(d.Div(10,20))  "
   ]
  },
  {
   "cell_type": "code",
   "execution_count": null,
   "id": "3d7212b7-9036-4c61-b78d-77d911ca6f02",
   "metadata": {},
   "outputs": [],
   "source": []
  }
 ],
 "metadata": {
  "kernelspec": {
   "display_name": "Python 3 (ipykernel)",
   "language": "python",
   "name": "python3"
  },
  "language_info": {
   "codemirror_mode": {
    "name": "ipython",
    "version": 3
   },
   "file_extension": ".py",
   "mimetype": "text/x-python",
   "name": "python",
   "nbconvert_exporter": "python",
   "pygments_lexer": "ipython3",
   "version": "3.10.8"
  }
 },
 "nbformat": 4,
 "nbformat_minor": 5
}
